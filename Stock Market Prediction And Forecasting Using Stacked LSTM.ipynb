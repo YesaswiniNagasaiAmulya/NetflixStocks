{
 "cells": [
  {
   "cell_type": "code",
   "execution_count": 70,
   "metadata": {},
   "outputs": [],
   "source": [
    "### Data Collection\n",
    "import pandas as pd\n",
    "import numpy as np\n",
    "from sklearn.preprocessing import MinMaxScaler\n",
    "import matplotlib.pyplot as plt\n",
    "import torch\n",
    "import torch.nn as nn"
   ]
  },
  {
   "cell_type": "code",
   "execution_count": 71,
   "metadata": {},
   "outputs": [
    {
     "name": "stdout",
     "output_type": "stream",
     "text": [
      "         Date      Open      High       Low     Close  Adj Close     Volume\n",
      "0  2002-05-23  1.156429  1.242857  1.145714  1.196429   1.196429  104790000\n",
      "1  2002-05-24  1.214286  1.225000  1.197143  1.210000   1.210000   11104800\n",
      "2  2002-05-28  1.213571  1.232143  1.157143  1.157143   1.157143    6609400\n",
      "3  2002-05-29  1.164286  1.164286  1.085714  1.103571   1.103571    6757800\n",
      "4  2002-05-30  1.107857  1.107857  1.071429  1.071429   1.071429   10154200\n"
     ]
    }
   ],
   "source": [
    "df=pd.read_csv(\"Netflix.csv\")\n",
    "print(df.head())"
   ]
  },
  {
   "cell_type": "code",
   "execution_count": 72,
   "metadata": {},
   "outputs": [
    {
     "name": "stdout",
     "output_type": "stream",
     "text": [
      "[0.00119131 0.00121094 0.00113448 ... 0.2785077  0.29612623 0.28728803]\n"
     ]
    }
   ],
   "source": [
    "closed_prices=df[\"Close\"]\n",
    "seq_len=15\n",
    "mm=MinMaxScaler()\n",
    "scaled_price=mm.fit_transform(np.array(closed_prices)[...,None]).squeeze()\n",
    "print(scaled_price)"
   ]
  },
  {
   "cell_type": "code",
   "execution_count": 79,
   "metadata": {},
   "outputs": [],
   "source": [
    "x=[]\n",
    "y=[]\n",
    "for i in range(len(scaled_price)-seq_len):\n",
    "    x.append(scaled_price[i:i+seq_len])\n",
    "    y.append(scaled_price[i+seq_len])"
   ]
  },
  {
   "cell_type": "code",
   "execution_count": 74,
   "metadata": {},
   "outputs": [
    {
     "name": "stdout",
     "output_type": "stream",
     "text": [
      "torch.Size([4023, 15, 1]) torch.Size([1006, 15, 1])\n",
      "torch.Size([4023, 1, 1]) torch.Size([1006, 1, 1])\n"
     ]
    }
   ],
   "source": [
    "x=np.array(x)[...,None]\n",
    "y=np.array(y)[...,None]\n",
    "\n",
    "train_x = torch.from_numpy(x[:int(0.8 * x.shape[0])]).float()\n",
    "train_y = torch.from_numpy(y[:int(0.8 * y.shape[0])]).float().unsqueeze(1)\n",
    "test_x = torch.from_numpy(x[int(0.8 * x.shape[0]):]).float()\n",
    "test_y = torch.from_numpy(y[int(0.8 * y.shape[0]):]).float().unsqueeze(1)\n",
    "print(train_x.shape,test_x.shape)\n",
    "print(train_y.shape,test_y.shape)"
   ]
  },
  {
   "cell_type": "code",
   "execution_count": 76,
   "metadata": {},
   "outputs": [
    {
     "name": "stdout",
     "output_type": "stream",
     "text": [
      "10 epoch loss 0.008878961205482483\n",
      "20 epoch loss 0.007005075458437204\n",
      "30 epoch loss 0.005311137065291405\n",
      "40 epoch loss 0.0010928750270977616\n",
      "50 epoch loss 0.0003711985773406923\n",
      "60 epoch loss 9.415292151970789e-05\n",
      "70 epoch loss 8.478638483211398e-05\n",
      "80 epoch loss 5.110435813548975e-05\n",
      "90 epoch loss 3.963134440709837e-05\n",
      "100 epoch loss 3.400891364435665e-05\n"
     ]
    },
    {
     "data": {
      "image/png": "[encoded data removed]",
      "text/plain": [
       "<matplotlib.figure.Figure at 0x24e0a7b7b38>"
      ]
     },
     "metadata": {},
     "output_type": "display_data"
    }
   ],
   "source": [
    "class Model(nn.Module):\n",
    "    def __init__(self,input_size,hidden_size):\n",
    "        super().__init__()\n",
    "        self.lstm=nn.LSTM(input_size,hidden_size,batch_first=True)\n",
    "        self.fc=nn.Linear(hidden_size,1)\n",
    "    def forward(self,x):\n",
    "        output,(hidden,cell)=self.lstm(x)\n",
    "        return self.fc(hidden[-1,:])\n",
    "model=Model(1,150)\n",
    "\n",
    "optimizer=torch.optim.Adam(model.parameters(),lr=0.001)\n",
    "loss_fn=nn.MSELoss()\n",
    "num_epochs=110\n",
    "for epoch in range(num_epochs):\n",
    "    output=model(train_x)\n",
    "    loss=loss_fn(output,train_y.squeeze(1))\n",
    "    \n",
    "    \n",
    "    optimizer.zero_grad()\n",
    "    loss.backward()\n",
    "    optimizer.step()\n",
    "    \n",
    "    if epoch%10==0 and epoch!=0:\n",
    "        print(epoch,\"epoch loss\",loss.item())\n",
    "        \n",
    "model.eval()\n",
    "with torch.no_grad():\n",
    "    output=model(test_x)\n",
    "    \n",
    "    \n",
    "pred=mm.inverse_transform(output.numpy())\n",
    "test_y_2d=test_y.reshape(-1,1)\n",
    "real=mm.inverse_transform(test_y_2d.numpy())\n",
    "\n",
    "plt.plot(pred.squeeze(),color=\"red\",label=\"predicted\")\n",
    "plt.plot(real.squeeze(),color=\"green\",label=\"real\")\n",
    "plt.show()"
   ]
  },
  {
   "cell_type": "markdown",
   "metadata": {},
   "source": []
  }
 ],
 "metadata": {
  "kernelspec": {
   "display_name": "Python 3",
   "language": "python",
   "name": "python3"
  },
  "language_info": {
   "codemirror_mode": {
    "name": "ipython",
    "version": 3
   },
   "file_extension": ".py",
   "mimetype": "text/x-python",
   "name": "python",
   "nbconvert_exporter": "python",
   "pygments_lexer": "ipython3",
   "version": "3.6.4"
  }
 },
 "nbformat": 4,
 "nbformat_minor": 2
}
